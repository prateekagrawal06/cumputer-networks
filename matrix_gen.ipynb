{
 "cells": [
  {
   "cell_type": "code",
   "execution_count": 3,
   "metadata": {
    "collapsed": false
   },
   "outputs": [
    {
     "name": "stdout",
     "output_type": "stream",
     "text": [
      "enter number of nodes9\n"
     ]
    }
   ],
   "source": [
    "import random\n",
    "lol = []\n",
    "n = int(raw_input(\"enter number of nodes\"))\n",
    "for i in range(n):\n",
    "    l = []\n",
    "    for j in range(n):\n",
    "        if i == j:\n",
    "            l.append(0)\n",
    "        else:\n",
    "            l.append(999)\n",
    "            \n",
    "            \n",
    "    lol.append(l)\n",
    "\n",
    "\n",
    "for i in range(n):\n",
    "    for j in range(n):\n",
    "        if lol[i][j] == 999:\n",
    "            ran = random.sample([-1, 2, 3, 4, 5,1,-1,-1,-1,-1,-1,-1,-1,-1,-1,-1,-1],  1)\n",
    "            lol[i][j] = ran[0]\n",
    "            lol[j][i] = ran[0]\n",
    "            \n",
    "\n",
    "f = open(\"matrices/matrix.txt\",\"wb\")\n",
    "for i in lol:\n",
    "    for j in i:\n",
    "        f.write(str(j))\n",
    "        f.write(\" \")\n",
    "    f.write(\"\\n\")\n",
    "f.close()\n",
    "\n",
    "\n"
   ]
  },
  {
   "cell_type": "code",
   "execution_count": null,
   "metadata": {
    "collapsed": true
   },
   "outputs": [],
   "source": []
  }
 ],
 "metadata": {
  "kernelspec": {
   "display_name": "Python 2",
   "language": "python",
   "name": "python2"
  },
  "language_info": {
   "codemirror_mode": {
    "name": "ipython",
    "version": 2
   },
   "file_extension": ".py",
   "mimetype": "text/x-python",
   "name": "python",
   "nbconvert_exporter": "python",
   "pygments_lexer": "ipython2",
   "version": "2.7.10"
  }
 },
 "nbformat": 4,
 "nbformat_minor": 0
}
